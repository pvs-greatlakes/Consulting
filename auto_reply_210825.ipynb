{
 "cells": [
  {
   "cell_type": "code",
   "execution_count": 1,
   "metadata": {},
   "outputs": [],
   "source": [
    "import    datetime\n",
    "import    email\n",
    "import    imaplib\n",
    "import    mailbox\n",
    "import    re\n",
    "import    pandas      as   pd"
   ]
  },
  {
   "cell_type": "code",
   "execution_count": 2,
   "metadata": {},
   "outputs": [],
   "source": [
    "import     sys, os\n",
    "import     random\n",
    "import     string\n",
    "import     mysql.connector"
   ]
  },
  {
   "cell_type": "code",
   "execution_count": 3,
   "metadata": {},
   "outputs": [],
   "source": [
    "folder_name = r'D:\\Consulting\\Matrimony\\Codes'\n",
    "sys.path.insert(0, folder_name) "
   ]
  },
  {
   "cell_type": "code",
   "execution_count": 4,
   "metadata": {},
   "outputs": [],
   "source": [
    "from       db_Class_210821_matrimony  import  Member"
   ]
  },
  {
   "cell_type": "code",
   "execution_count": 5,
   "metadata": {},
   "outputs": [],
   "source": [
    "import nltk\n",
    "from nltk.tokenize import RegexpTokenizer\n",
    "from nltk.stem import WordNetLemmatizer,PorterStemmer\n",
    "from nltk.corpus import stopwords\n",
    "import re\n",
    "lemmatizer = WordNetLemmatizer()\n",
    "stemmer    = PorterStemmer() "
   ]
  },
  {
   "cell_type": "code",
   "execution_count": 6,
   "metadata": {},
   "outputs": [],
   "source": [
    "import  smtplib\n",
    "from    email.mime.multipart import     MIMEMultipart\n",
    "from    email.mime.text      import     MIMEText"
   ]
  },
  {
   "cell_type": "code",
   "execution_count": 7,
   "metadata": {},
   "outputs": [],
   "source": [
    "### Function to clean text port\n",
    "def preprocess(sentence):\n",
    "    sentence         =   str(sentence)\n",
    "    sentence         =   sentence.lower()\n",
    "    sentence         =   sentence.replace('{html}',\"\") \n",
    "    cleanr           =   re.compile('<.*?>')\n",
    "    cleantext        =   re.sub(cleanr, '', sentence)\n",
    "    rem_url          =   re.sub(r'http\\S+', '',cleantext)\n",
    "    #rem_num         =   re.sub('[0-9]+', '', rem_url)\n",
    "    #tokenizer        =   RegexpTokenizer(r'\\w+')\n",
    "    pattern          =   r'\\S+@[^\\s.]+\\.[a-zA-Z]+|\\w+|[^\\w\\s]'\n",
    "    tokenizer        =   RegexpTokenizer(pattern)\n",
    "    tokens           =   tokenizer.tokenize(rem_url)  \n",
    "    filtered_words   =   [w for w in tokens if len(w) > 2 if not w in stopwords.words('english')]\n",
    "    stem_words       =   [stemmer.stem(w) for w in filtered_words]\n",
    "    lemma_words      =   [lemmatizer.lemmatize(w) for w in stem_words]\n",
    "    return \" \".join(filtered_words)"
   ]
  },
  {
   "cell_type": "code",
   "execution_count": 8,
   "metadata": {},
   "outputs": [],
   "source": [
    "date = (datetime.date.today() - datetime.timedelta(1)).strftime(\"%d-%b-%Y\")"
   ]
  },
  {
   "cell_type": "code",
   "execution_count": 9,
   "metadata": {},
   "outputs": [],
   "source": [
    "regex         =   re.compile(r'b\\\"[\\n\\r\\t\\*]')\n",
    "regex1        =   re.compile(r'delivering your message to')"
   ]
  },
  {
   "cell_type": "code",
   "execution_count": 10,
   "metadata": {},
   "outputs": [],
   "source": [
    "def check_pattern(string):\n",
    "    if re.search(r'(?<!\\w){}(?!\\w)'.format(re.escape('re:')), string.lower()):\n",
    "       return 'Reply'\n",
    "    elif   re.search(r'(?<!\\w){}(?!\\w)'.format(re.escape('fwd:')), string.lower()):\n",
    "       return 'Forward'  \n",
    "    elif   'delivery status notification (failure)' in string.lower():\n",
    "       return 'Bounced' \n",
    "    else:\n",
    "       return 'General'  \n",
    "    "
   ]
  },
  {
   "cell_type": "code",
   "execution_count": 11,
   "metadata": {},
   "outputs": [],
   "source": [
    "EMAIL_ACCOUNT     =    \"pvs1301@gmail.com\"\n",
    "sender_address    =    \"pvs1301@gmail.com\"\n",
    "PASSWORD          =    \"KrupaGS@1302\"\n",
    "sender_pass       =    \"KrupaGS@1302\""
   ]
  },
  {
   "cell_type": "code",
   "execution_count": 12,
   "metadata": {},
   "outputs": [],
   "source": [
    "###\n",
    "mail              =     imaplib.IMAP4_SSL('imap.gmail.com')\n",
    "mail.login(EMAIL_ACCOUNT, PASSWORD)\n",
    "mail.list()\n",
    "mail.select('inbox')\n",
    "# result, data     =     mail.uid('search', '(SINCE \"21-Aug-2021\")', \"ALL\") # (ALL/UNSEEN)\n",
    "result, data      =     mail.uid('search', '(SENTSINCE {date})'.format(date=date), \"ALL\") # (ALL/UNSEEN)\n",
    "\n",
    "i                 =     len(data[0].split())\n",
    "mails_df          =     pd.DataFrame()\n",
    "txt_df            =     pd.DataFrame()\n",
    "for x in range(i):\n",
    "    \n",
    "    latest_email_uid     =  data[0].split()[x]\n",
    "    result, email_data   =  mail.uid('fetch', latest_email_uid, '(RFC822)')\n",
    "    # result, email_data = conn.store(num,'-FLAGS','\\\\Seen') \n",
    "    # this might work to set flag to seen, if it doesn't already\n",
    "    raw_email            =  email_data[0][1]\n",
    "    raw_email_df         =  pd.DataFrame( {'Text' : raw_email}, index = [0])\n",
    "    raw_email_df['cleanText'] = raw_email_df['Text'].map(lambda s:preprocess(s))\n",
    "\n",
    "    txt_df               =   txt_df.append(raw_email_df, ignore_index = False)  \n",
    "    \n",
    "    s2                   =   regex1.sub(\"\", raw_email_df['cleanText'].to_string()); \n",
    "\n",
    "    try:\n",
    "        raw_email_string       =  raw_email.decode('latin1')\n",
    "        email_message          =  email.message_from_string(raw_email_string)\n",
    "        ### Header Details\n",
    "        date_tuple = email.utils.parsedate_tz(email_message['Date'])\n",
    "        if date_tuple:\n",
    "            local_date         = datetime.datetime.fromtimestamp(email.utils.mktime_tz(date_tuple))\n",
    "            local_message_date = \"%s\" %(str(local_date.strftime(\"%a, %d %b %Y %H:%M:%S\")))\n",
    "\n",
    "        email_from  = str(email.header.make_header(email.header.decode_header(email_message['From'])))\n",
    "        email_to    = str(email.header.make_header(email.header.decode_header(email_message['To'])))\n",
    "        subject     = str(email.header.make_header(email.header.decode_header(email_message['Subject'])))\n",
    "\n",
    "        category    = check_pattern(subject)\n",
    "\n",
    "        ### Body details\n",
    "\n",
    "        for part in email_message.walk():\n",
    "                if part.get_content_type() == \"text/plain\":\n",
    "                    body         =   part.get_payload(decode=True)\n",
    "                    try:\n",
    "                        Profile_ID   =   re.search(r'Profile ID:(.*) in Matrimony.com', subject).group(1).strip()\n",
    "                    except:\n",
    "                        Profile_ID   =   ' '\n",
    "                    mail_df1     =   pd.DataFrame({'From': email_from,\\\n",
    "                                                   'To': email_to,\\\n",
    "                                                   'Date': local_message_date,\\\n",
    "                                                   'Subject': subject,\\\n",
    "                                                   'Profile ID': Profile_ID,\\\n",
    "                                                   'Category' : category}, index = [0])\n",
    "                    mails_df     =   mails_df.append(mail_df1, ignore_index = False)            \n",
    "                else:\n",
    "                    continue\n",
    "    except:\n",
    "        email_message        =  \"\"\n",
    "                "
   ]
  },
  {
   "cell_type": "code",
   "execution_count": 13,
   "metadata": {},
   "outputs": [
    {
     "name": "stdout",
     "output_type": "stream",
     "text": [
      "M5929711\n",
      "\n"
     ]
    }
   ],
   "source": [
    "import re as regex\n",
    "\n",
    "s_list      = ['Profile ID: M5929711 in Matrimony.com', 'ddd']\n",
    "\n",
    "for i in range(len(s_list)):\n",
    "    Profile_ID = ' '\n",
    "    s          = s_list[i]\n",
    "    try: \n",
    "        Profile_ID = re.search(r'Profile ID:(.*) in Matrimony.com', s).group(1).strip()\n",
    "    except:\n",
    "        Profile_ID = ''\n",
    "        \n",
    "    print(Profile_ID)"
   ]
  },
  {
   "cell_type": "code",
   "execution_count": 14,
   "metadata": {},
   "outputs": [],
   "source": [
    "from   datetime  import  datetime\n",
    "\n",
    "now              =    datetime.now()\n",
    "current_time     =    now.strftime(\"%H:%M:%S\")\n",
    "error            =    None"
   ]
  },
  {
   "cell_type": "code",
   "execution_count": 15,
   "metadata": {},
   "outputs": [],
   "source": [
    "mem              =    Member(\"localhost\", \"testUser\", \"A4min@123\", \"matrimony\" )\n",
    "connection       =    mem.db_connection()\n",
    "cursor           =    connection.cursor()"
   ]
  },
  {
   "cell_type": "code",
   "execution_count": 16,
   "metadata": {},
   "outputs": [],
   "source": [
    "nrows            =    mails_df.shape[0]"
   ]
  },
  {
   "cell_type": "code",
   "execution_count": 17,
   "metadata": {},
   "outputs": [
    {
     "data": {
      "text/plain": [
       "58"
      ]
     },
     "execution_count": 17,
     "metadata": {},
     "output_type": "execute_result"
    }
   ],
   "source": [
    "nrows"
   ]
  },
  {
   "cell_type": "code",
   "execution_count": 18,
   "metadata": {},
   "outputs": [
    {
     "data": {
      "text/html": [
       "<div>\n",
       "<style scoped>\n",
       "    .dataframe tbody tr th:only-of-type {\n",
       "        vertical-align: middle;\n",
       "    }\n",
       "\n",
       "    .dataframe tbody tr th {\n",
       "        vertical-align: top;\n",
       "    }\n",
       "\n",
       "    .dataframe thead th {\n",
       "        text-align: right;\n",
       "    }\n",
       "</style>\n",
       "<table border=\"1\" class=\"dataframe\">\n",
       "  <thead>\n",
       "    <tr style=\"text-align: right;\">\n",
       "      <th></th>\n",
       "      <th>0</th>\n",
       "      <th>0</th>\n",
       "      <th>0</th>\n",
       "    </tr>\n",
       "  </thead>\n",
       "  <tbody>\n",
       "    <tr>\n",
       "      <th>From</th>\n",
       "      <td>\"L T Realty\" &lt;newsletters@greatmail.in&gt;</td>\n",
       "      <td>LinkedIn Welcome Team &lt;messages-noreply@linked...</td>\n",
       "      <td>Bajaj Finserv EMI Card &lt;info@oristay.in&gt;</td>\n",
       "    </tr>\n",
       "    <tr>\n",
       "      <th>To</th>\n",
       "      <td>pvs1301@gmail.com</td>\n",
       "      <td>Subramanian PV &lt;pvs1301@gmail.com&gt;</td>\n",
       "      <td>pvs1301@gmail.com</td>\n",
       "    </tr>\n",
       "    <tr>\n",
       "      <th>Date</th>\n",
       "      <td>Wed, 25 Aug 2021 10:56:05</td>\n",
       "      <td>Wed, 25 Aug 2021 10:58:09</td>\n",
       "      <td>Wed, 25 Aug 2021 10:51:12</td>\n",
       "    </tr>\n",
       "    <tr>\n",
       "      <th>Subject</th>\n",
       "      <td>pvs1301@gmail.com, Spacious 1, 2 and 3 BHK Fla...</td>\n",
       "      <td>Take your conversations with you. Be notified ...</td>\n",
       "      <td>Get SUN-Sational EMI deals on latest Home Appl...</td>\n",
       "    </tr>\n",
       "    <tr>\n",
       "      <th>Profile ID</th>\n",
       "      <td></td>\n",
       "      <td></td>\n",
       "      <td></td>\n",
       "    </tr>\n",
       "    <tr>\n",
       "      <th>Category</th>\n",
       "      <td>General</td>\n",
       "      <td>General</td>\n",
       "      <td>General</td>\n",
       "    </tr>\n",
       "  </tbody>\n",
       "</table>\n",
       "</div>"
      ],
      "text/plain": [
       "                                                            0  \\\n",
       "From                  \"L T Realty\" <newsletters@greatmail.in>   \n",
       "To                                          pvs1301@gmail.com   \n",
       "Date                                Wed, 25 Aug 2021 10:56:05   \n",
       "Subject     pvs1301@gmail.com, Spacious 1, 2 and 3 BHK Fla...   \n",
       "Profile ID                                                      \n",
       "Category                                              General   \n",
       "\n",
       "                                                            0  \\\n",
       "From        LinkedIn Welcome Team <messages-noreply@linked...   \n",
       "To                         Subramanian PV <pvs1301@gmail.com>   \n",
       "Date                                Wed, 25 Aug 2021 10:58:09   \n",
       "Subject     Take your conversations with you. Be notified ...   \n",
       "Profile ID                                                      \n",
       "Category                                              General   \n",
       "\n",
       "                                                            0  \n",
       "From                 Bajaj Finserv EMI Card <info@oristay.in>  \n",
       "To                                          pvs1301@gmail.com  \n",
       "Date                                Wed, 25 Aug 2021 10:51:12  \n",
       "Subject     Get SUN-Sational EMI deals on latest Home Appl...  \n",
       "Profile ID                                                     \n",
       "Category                                              General  "
      ]
     },
     "execution_count": 18,
     "metadata": {},
     "output_type": "execute_result"
    }
   ],
   "source": [
    "mails_df.tail(3).T"
   ]
  },
  {
   "cell_type": "code",
   "execution_count": 19,
   "metadata": {},
   "outputs": [],
   "source": [
    "profile_id_list       =   mails_df['Profile ID'].tolist()"
   ]
  },
  {
   "cell_type": "code",
   "execution_count": 20,
   "metadata": {},
   "outputs": [],
   "source": [
    "receiver_address_list =   mails_df['From'].tolist()"
   ]
  },
  {
   "cell_type": "code",
   "execution_count": 21,
   "metadata": {},
   "outputs": [
    {
     "data": {
      "text/plain": [
       "(235, b'2.7.0 Accepted')"
      ]
     },
     "execution_count": 21,
     "metadata": {},
     "output_type": "execute_result"
    }
   ],
   "source": [
    " #Create SMTP session for sending the mail\n",
    "session = smtplib.SMTP('smtp.gmail.com', 587) #use gmail with port\n",
    "session.starttls() #enable security\n",
    "session.login(sender_address, sender_pass) #login with mail_id and password"
   ]
  },
  {
   "cell_type": "code",
   "execution_count": 22,
   "metadata": {},
   "outputs": [
    {
     "name": "stdout",
     "output_type": "stream",
     "text": [
      "IND 39\n",
      "\n",
      "Profile ID M5929711\n",
      "AGE =  27\n",
      "GENDER =  Female\n",
      "MARITAL_STATUS =  Never married\n",
      "CASTE  =  Mudaliar \n",
      "\n"
     ]
    }
   ],
   "source": [
    "for  ind in range(len(profile_id_list)):\n",
    "    \n",
    "     profile_id       =  profile_id_list[ind]\n",
    "        \n",
    "     if  len(profile_id) > 3:\n",
    "         print(\"IND {}\".format(ind))\n",
    "         print(\"\\nProfile ID {}\".format(profile_id))\n",
    "        \n",
    "         receiver_address =   receiver_address_list[ind]\n",
    "            \n",
    "         sql_select       =   \"\"\"SELECT AGE, GENDER, MARITAL_STATUS, CASTE, SUB_CASTE, \n",
    "                                       STATE, CITY, COUNTRY, HEIGHT, PHYSICAL_STATUS, FAMILY_STATUS, \n",
    "                                       FAMILY_TYPE, FAMILY_VALUES, PARTNER_AGE, PARTNER_EDUCATION, \n",
    "                                       PARTNER_INCOME, PARTNER_LOCATION, ABOUT_DESCRIPTION \n",
    "                                 FROM MEMBER \n",
    "                                 WHERE PROFILE_ID = %s\"\"\" \n",
    "         cursor.execute(sql_select, (profile_id,))\n",
    "         record = cursor.fetchall()\n",
    "         for row in record:\n",
    "            print(\"AGE = \", row[0], )\n",
    "            print(\"GENDER = \", row[1])\n",
    "            print(\"MARITAL_STATUS = \", row[2])\n",
    "            print(\"CASTE  = \", row[3], \"\\n\")\n",
    "            mail_content  = 'Pls check your details : \\n' + '<== Age = ' + str(row[0]) + ' Gender = ' + row[1] + \"  MARITAL_STATUS = \" + row[2] +\\\n",
    "            \" CASTE  = \" + row[3] + \"====>\\n\"\n",
    "            #\n",
    "            message              =   MIMEMultipart()\n",
    "            message['From']      =   sender_address\n",
    "            message['To']        =   receiver_address\n",
    "            message['Subject']   =   'An reply test mail sent by Python'   #The subject line\n",
    "            #The body and the attachments for the mail\n",
    "            message.attach(MIMEText(mail_content, 'plain'))\n",
    "            text = message.as_string()\n",
    "            session.sendmail(sender_address, receiver_address, text)"
   ]
  },
  {
   "cell_type": "code",
   "execution_count": 23,
   "metadata": {},
   "outputs": [
    {
     "name": "stdout",
     "output_type": "stream",
     "text": [
      "Mail Sent???\n"
     ]
    }
   ],
   "source": [
    "session.quit()\n",
    "print('Mail Sent???')"
   ]
  }
 ],
 "metadata": {
  "kernelspec": {
   "display_name": "Python 3",
   "language": "python",
   "name": "python3"
  },
  "language_info": {
   "codemirror_mode": {
    "name": "ipython",
    "version": 3
   },
   "file_extension": ".py",
   "mimetype": "text/x-python",
   "name": "python",
   "nbconvert_exporter": "python",
   "pygments_lexer": "ipython3",
   "version": "3.8.3"
  }
 },
 "nbformat": 4,
 "nbformat_minor": 4
}
